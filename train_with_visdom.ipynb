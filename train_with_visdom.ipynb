{
 "metadata": {
  "language_info": {
   "codemirror_mode": {
    "name": "ipython",
    "version": 3
   },
   "file_extension": ".py",
   "mimetype": "text/x-python",
   "name": "python",
   "nbconvert_exporter": "python",
   "pygments_lexer": "ipython3",
   "version": "3.6.8-final"
  },
  "orig_nbformat": 2,
  "kernelspec": {
   "name": "python3",
   "display_name": "Python 3.6.8 64-bit ('torch': conda)",
   "metadata": {
    "interpreter": {
     "hash": "dec07700a42e8f7bf9194d93f214643bfcd7b0c2f0585fcb6b708716d7668b22"
    }
   }
  }
 },
 "nbformat": 4,
 "nbformat_minor": 2,
 "cells": [
  {
   "cell_type": "code",
   "execution_count": 3,
   "metadata": {},
   "outputs": [
    {
     "output_type": "stream",
     "name": "stderr",
     "text": [
      "Setting up a new session...\n"
     ]
    }
   ],
   "source": [
    "import torch\n",
    "import torch.nn as nn\n",
    "import numpy as np \n",
    "import torch.nn.functional as F \n",
    "\n",
    "import visdom\n",
    "vis = visdom.Visdom()"
   ]
  },
  {
   "cell_type": "code",
   "execution_count": 50,
   "metadata": {},
   "outputs": [],
   "source": [
    "class fxnnxc(nn.Module):\n",
    "    def __init__(self):\n",
    "        super(fxnnxc, self).__init__()\n",
    "        self.linear1 = nn.Linear(28*28, 256)\n",
    "        self.linear2 = nn.Linear(256, 64)\n",
    "        self.linear3 = nn.Linear(64, 10)\n",
    "\n",
    "    def forward(self, x):\n",
    "        x = F.relu(self.linear1(x))\n",
    "        x = F.relu(self.linear2(x))\n",
    "        x = self.linear3(x)\n",
    "        return x\n",
    "model = fxnnxc()"
   ]
  },
  {
   "cell_type": "code",
   "execution_count": 51,
   "metadata": {},
   "outputs": [],
   "source": [
    "#--------------------------------------------- file read\n",
    "x_train = np.load(\"data/mnist_train.npy\")\n",
    "x_test  = np.load(\"data/mnist_test.npy\")\n",
    "y_train = np.load(\"data/mnist_train_target.npy\")\n",
    "y_test  = np.load(\"data/mnist_test_target.npy\")\n",
    "#--------------------------------------------- numpy to tensor\n",
    "x_train  = torch.from_numpy(x_train).float()       #long으로 하면 loss 계산할 때 에러\n",
    "x_test   = torch.from_numpy(x_test).float()\n",
    "y_train  = torch.from_numpy(y_train).long()        #float으로 하면 loss 계산할 때 에러  \n",
    "y_test   = torch.from_numpy(y_test).long()\n",
    "\n",
    "#--------------------------------------------- data to dataset\n",
    "train_dataset = torch.utils.data.TensorDataset(x_train, y_train)\n",
    "test_dataset  = torch.utils.data.TensorDataset(x_test,  y_test)\n",
    "\n",
    "#--------------------------------------------- dataset to dataloader \n",
    "train_loader = torch.utils.data.DataLoader(train_dataset,\n",
    "                                          batch_size=256,\n",
    "                                          shuffle=True,\n",
    "                                          num_workers=2)\n",
    "                                    \n",
    "test_loader = torch.utils.data.DataLoader(train_dataset,\n",
    "                                          batch_size=256,\n",
    "                                          shuffle=True,\n",
    "                                          num_workers=2)                                 \n",
    "                                    "
   ]
  },
  {
   "cell_type": "code",
   "execution_count": 52,
   "metadata": {},
   "outputs": [],
   "source": [
    "criterion = torch.nn.CrossEntropyLoss()\n",
    "optimizer = torch.optim.SGD(model.parameters(), lr=1e-4)"
   ]
  },
  {
   "cell_type": "code",
   "execution_count": 53,
   "metadata": {
    "tags": []
   },
   "outputs": [
    {
     "output_type": "stream",
     "name": "stdout",
     "text": [
      "0 1.6976717710494995\n",
      "1 0.6867055892944336\n",
      "2 0.7021638751029968\n"
     ]
    }
   ],
   "source": [
    "EPOCH = 3\n",
    "\n",
    "for t in range(EPOCH): # EPOCH\n",
    "    for i, (sample, target) in enumerate(train_loader): #BATCH\n",
    "        sample = sample.view(sample.size()[0], -1)   \n",
    "        y = model(sample)\n",
    "        loss = criterion(y, target)\n",
    "        optimizer.zero_grad()\n",
    "        loss.backward()\n",
    "        optimizer.step()\n",
    "        \n",
    "        if i % 1000 == 99:\n",
    "            print(t, loss.item())  \n",
    "    #--------------- VISDOM \n",
    "        vis.line(X=[i], Y=[loss.data], \n",
    "            win=\"loss\", \n",
    "            update=\"append\", \n",
    "            name=f\"epoch {t+1}\",\n",
    "            opts=dict(showlegend=True))     \n",
    "    #---------------------------------------------------"
   ]
  },
  {
   "cell_type": "code",
   "execution_count": 44,
   "metadata": {},
   "outputs": [],
   "source": [
    "# Test\n",
    "correct = 0\n",
    "total = 0\n",
    "with torch.no_grad(): \n",
    "    for data in test_loader:\n",
    "        images, labels = data\n",
    "        images = images.view(images.size()[0], -1)   \n",
    "        outputs = model(images)\n",
    "        _, predicted = torch.max(outputs.data, 1)\n",
    "        total += labels.size(0)\n",
    "        correct += (predicted == labels).sum().item()"
   ]
  },
  {
   "cell_type": "code",
   "execution_count": 11,
   "metadata": {},
   "outputs": [
    {
     "output_type": "stream",
     "name": "stdout",
     "text": [
      "Accuracy of the network on the 10000 test images: 95.0\n"
     ]
    }
   ],
   "source": [
    "print(f'Accuracy of the network on the 10000 test images: {100 * correct / total}')"
   ]
  }
 ]
}