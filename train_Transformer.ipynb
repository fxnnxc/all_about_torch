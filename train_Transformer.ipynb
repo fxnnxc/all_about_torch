{
 "metadata": {
  "language_info": {
   "codemirror_mode": {
    "name": "ipython",
    "version": 3
   },
   "file_extension": ".py",
   "mimetype": "text/x-python",
   "name": "python",
   "nbconvert_exporter": "python",
   "pygments_lexer": "ipython3",
   "version": "3.6.8-final"
  },
  "orig_nbformat": 2,
  "kernelspec": {
   "name": "python3",
   "display_name": "Python 3.6.8 64-bit ('torch': conda)",
   "metadata": {
    "interpreter": {
     "hash": "dec07700a42e8f7bf9194d93f214643bfcd7b0c2f0585fcb6b708716d7668b22"
    }
   }
  }
 },
 "nbformat": 4,
 "nbformat_minor": 2,
 "cells": [
  {
   "cell_type": "code",
   "execution_count": 82,
   "metadata": {},
   "outputs": [
    {
     "output_type": "stream",
     "name": "stderr",
     "text": [
      "Setting up a new session...\n"
     ]
    },
    {
     "output_type": "execute_result",
     "data": {
      "text/plain": [
       "device(type='cuda')"
      ]
     },
     "metadata": {},
     "execution_count": 82
    }
   ],
   "source": [
    "import torch\n",
    "import torch.nn as nn\n",
    "import numpy as np \n",
    "import torch.nn.functional as F \n",
    "\n",
    "import visdom\n",
    "vis = visdom.Visdom()\n",
    "\n",
    "device = torch.device('cuda' if torch.cuda.is_available() else 'cpu')\n",
    "device"
   ]
  },
  {
   "cell_type": "code",
   "execution_count": 115,
   "metadata": {},
   "outputs": [],
   "source": [
    "class fxnnxc(nn.Module):\n",
    "    def __init__(self):\n",
    "        super(fxnnxc, self).__init__()\n",
    "        self.encoder = nn.TransformerEncoderLayer(d_model=28, nhead=4)\n",
    "        self.linear = nn.Linear(28*28, 10)\n",
    "\n",
    "    def forward(self, x):\n",
    "        x = self.encoder(x)\n",
    "        x = x.view((x.size(0), -1))\n",
    "        x = self.linear(x)\n",
    "        return x"
   ]
  },
  {
   "cell_type": "code",
   "execution_count": 116,
   "metadata": {},
   "outputs": [],
   "source": [
    "#--------------------------------------------- file read\n",
    "x_train = np.load(\"data/mnist_train.npy\")\n",
    "x_test  = np.load(\"data/mnist_test.npy\")\n",
    "y_train = np.load(\"data/mnist_train_target.npy\")\n",
    "y_test  = np.load(\"data/mnist_test_target.npy\")\n",
    "#--------------------------------------------- numpy to tensor\n",
    "x_train  = torch.from_numpy(x_train).float()       #long으로 하면 loss 계산할 때 에러\n",
    "x_test   = torch.from_numpy(x_test).float()\n",
    "y_train  = torch.from_numpy(y_train).long()        #float으로 하면 loss 계산할 때 에러  \n",
    "y_test   = torch.from_numpy(y_test).long()\n",
    "\n",
    "#--------------------------------------------- data to dataset\n",
    "train_dataset = torch.utils.data.TensorDataset(x_train, y_train)\n",
    "test_dataset  = torch.utils.data.TensorDataset(x_test,  y_test)\n",
    "\n",
    "#--------------------------------------------- dataset to dataloader \n",
    "train_loader = torch.utils.data.DataLoader(train_dataset,\n",
    "                                          batch_size=256,\n",
    "                                          shuffle=True,\n",
    "                                          num_workers=2)\n",
    "                                    \n",
    "test_loader = torch.utils.data.DataLoader(train_dataset,\n",
    "                                          batch_size=256,\n",
    "                                          shuffle=True,\n",
    "                                          num_workers=2)                                 \n",
    "                                    "
   ]
  },
  {
   "cell_type": "code",
   "execution_count": 117,
   "metadata": {},
   "outputs": [],
   "source": [
    "model = fxnnxc().to(device)\n",
    "criterion = torch.nn.CrossEntropyLoss()\n",
    "optimizer = torch.optim.Adam(model.parameters(), lr=1e-4)\n",
    "\n",
    "EPOCH = 1\n",
    "c = 0\n",
    "for t in range(EPOCH): # EPOCH\n",
    "    for i, (sample, target) in enumerate(train_loader): #BATCH\n",
    "        sample = sample.to(device)\n",
    "        target = target.to(device)\n",
    "        y = model(sample)\n",
    "\n",
    "        loss = criterion(y, target)\n",
    "\n",
    "        optimizer.zero_grad()\n",
    "        loss.backward()\n",
    "        optimizer.step()\n",
    "        \n",
    "        vis.line(X=[c], Y=[loss.item()], win=\"loss\",name=\"TransformerEncoder\" , \n",
    "                    update='append',opts=dict(showlegend=True))\n",
    "        c+=1"
   ]
  },
  {
   "cell_type": "code",
   "execution_count": 118,
   "metadata": {},
   "outputs": [
    {
     "output_type": "stream",
     "name": "stdout",
     "text": [
      "87.03999999999999\n"
     ]
    }
   ],
   "source": [
    "# Test\n",
    "\n",
    "correct = 0\n",
    "total = 0\n",
    "with torch.no_grad(): \n",
    "    for data in test_loader:\n",
    "        images, labels = data\n",
    "        images = images.to(device)\n",
    "        labels = labels.to(device)\n",
    "        outputs = model(images)\n",
    "        _, predicted = torch.max(outputs.data, 1)\n",
    "        total += labels.size(0)\n",
    "        correct += (predicted == labels).sum().item()\n",
    "\n",
    "print(correct/total*100)"
   ]
  },
  {
   "cell_type": "code",
   "execution_count": null,
   "metadata": {},
   "outputs": [],
   "source": []
  },
  {
   "cell_type": "code",
   "execution_count": null,
   "metadata": {},
   "outputs": [],
   "source": []
  }
 ]
}